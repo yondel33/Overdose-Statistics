{
 "cells": [
  {
   "cell_type": "markdown",
   "id": "4869f7b0",
   "metadata": {},
   "source": [
    "This dataset details drug overdose deaths in Connecticut from 2012 to 2018. It contains basic demographic features, such as race, age, and sex, in addition to substances present in system postmortem. The data on drugs is binary--0 for not present and 1 for present--and does not offer any further quantitative information. I chose this topic because of its importance. The ongoing exponential increase of overdose deaths has received substantial interest from researchers and public health officials, but this attention has done little to quell the rise in rates. My work here does not offer any novel solutions to a multifaceted, deeply ingrained problem; rather, I hope continued attention from data science and statistics can generate short-term and long-term solutions.\n",
    "\n",
    "https://www.kaggle.com/ruchi798/drug-overdose-deaths"
   ]
  },
  {
   "cell_type": "markdown",
   "id": "5d37c5f5",
   "metadata": {},
   "source": [
    "My research question is something like this: can we predict the presence of fentanyl in overdose deaths based on the presence of other substances at time of death? I don't know that answering this question will generate much change in policy or behavior. It will, however, offer some detail on the intersection of different drugs, including fentanyl, the primary culprit for the continuing surge of overdose deaths.\n",
    "\n",
    "Since much of the data is binary, some statistical methods are off the table. Most obviously, linear regression will not work. I decided to use Naive Bayes because it's fairly straightforward, works for supervised learning, and I'm interested in how the titular naive assumption of independence between features works on data with some connections. For instance, use of heroin correlates with fentanyl use moreso than use of methamphetamines. Does this throw Naive Bayes off any?"
   ]
  },
  {
   "cell_type": "code",
   "execution_count": 37,
   "id": "8c2e343e",
   "metadata": {},
   "outputs": [],
   "source": [
    "import numpy as np\n",
    "import matplotlib.pyplot as plt\n",
    "import pandas as pd\n",
    "import seaborn as sns\n",
    "from sklearn.model_selection import train_test_split\n",
    "from sklearn.metrics import confusion_matrix\n",
    "from sklearn import preprocessing\n",
    "from sklearn.preprocessing import StandardScaler\n",
    "from sklearn.naive_bayes import BernoulliNB\n",
    "from sklearn.metrics import accuracy_score\n",
    "from sklearn.metrics import classification_report\n",
    "from sklearn.metrics import mean_squared_error\n",
    "from sklearn.linear_model import LogisticRegression\n",
    "from math import sqrt"
   ]
  },
  {
   "cell_type": "code",
   "execution_count": 2,
   "id": "cf86971a",
   "metadata": {},
   "outputs": [],
   "source": [
    "drug_deaths = pd.read_csv(\"C://Users/stevj/Downloads/drug_deaths/drug_deaths.csv\")"
   ]
  },
  {
   "cell_type": "code",
   "execution_count": 3,
   "id": "c58efc7c",
   "metadata": {},
   "outputs": [],
   "source": [
    "drug_deaths[\"Fentanyl\"] = pd.to_numeric(drug_deaths[\"Fentanyl\"], errors = 'coerce')"
   ]
  },
  {
   "cell_type": "code",
   "execution_count": 5,
   "id": "2b8b7c9b",
   "metadata": {},
   "outputs": [],
   "source": [
    "labelCode = preprocessing.LabelEncoder()\n",
    "\n",
    "drug_deaths[\"Sex\"] = labelCode.fit_transform(drug_deaths[\"Sex\"])\n",
    "drug_deaths[\"Race\"] = labelCode.fit_transform(drug_deaths[\"Race\"])"
   ]
  },
  {
   "cell_type": "code",
   "execution_count": 38,
   "id": "211ddc22",
   "metadata": {},
   "outputs": [],
   "source": [
    "reduced = drug_deaths[[\"Heroin\", \"Age\", \"Sex\", \"Race\",\"Cocaine\", \"Fentanyl_Analogue\", \"Fentanyl\", \n",
    "                 \"Oxycodone\", \"Oxymorphone\", \"Ethanol\", \"Benzodiazepine\", \n",
    "                 \"Methadone\", \"Amphet\", \"Tramad\", \"Hydromorphone\"]].dropna()"
   ]
  },
  {
   "cell_type": "markdown",
   "id": "10fe5696",
   "metadata": {},
   "source": [
    "The model will first use all the features, including demographic data and other drugs present."
   ]
  },
  {
   "cell_type": "code",
   "execution_count": 39,
   "id": "ad3f1670",
   "metadata": {},
   "outputs": [],
   "source": [
    "X = reduced[[\"Heroin\", \"Age\", \"Sex\", \"Race\", \"Cocaine\", \"Fentanyl_Analogue\",  \n",
    "                 \"Oxycodone\", \"Oxymorphone\", \"Ethanol\", \"Benzodiazepine\", \n",
    "                 \"Methadone\", \"Amphet\", \"Tramad\", \"Hydromorphone\"]].values\n",
    "y = reduced.loc[:, [\"Fentanyl\"]].values"
   ]
  },
  {
   "cell_type": "code",
   "execution_count": 40,
   "id": "b973095d",
   "metadata": {},
   "outputs": [],
   "source": [
    "X_train, X_test, y_train, y_test = train_test_split(X, y, test_size = 0.20, random_state = 0)"
   ]
  },
  {
   "cell_type": "code",
   "execution_count": 41,
   "id": "97894ed1",
   "metadata": {},
   "outputs": [],
   "source": [
    "sc_X = StandardScaler() \n",
    "X_train = sc_X.fit_transform(X_train)\n",
    "X_test = sc_X.fit_transform(X_test)"
   ]
  },
  {
   "cell_type": "code",
   "execution_count": 42,
   "id": "5c093747",
   "metadata": {},
   "outputs": [
    {
     "name": "stderr",
     "output_type": "stream",
     "text": [
      "C:\\Users\\stevj\\anaconda3\\lib\\site-packages\\sklearn\\utils\\validation.py:63: DataConversionWarning: A column-vector y was passed when a 1d array was expected. Please change the shape of y to (n_samples, ), for example using ravel().\n",
      "  return f(*args, **kwargs)\n"
     ]
    }
   ],
   "source": [
    "classifer = BernoulliNB()\n",
    "classifer.fit(X_train, y_train)\n",
    "y_pred = classifer.predict(X_test)"
   ]
  },
  {
   "cell_type": "markdown",
   "id": "87641065",
   "metadata": {},
   "source": [
    "Next, the model will use just the three demographic features."
   ]
  },
  {
   "cell_type": "code",
   "execution_count": 46,
   "id": "b931df57",
   "metadata": {},
   "outputs": [],
   "source": [
    "X_demo = reduced[[\"Age\", \"Sex\", \"Race\"]].values\n",
    "y_demo = reduced.loc[:, [\"Fentanyl\"]].values"
   ]
  },
  {
   "cell_type": "code",
   "execution_count": 47,
   "id": "5a693338",
   "metadata": {},
   "outputs": [],
   "source": [
    "X_train1, X_test1, y_train1, y_test1 = train_test_split(X_demo, y_demo, test_size = 0.20, random_state = 0)"
   ]
  },
  {
   "cell_type": "code",
   "execution_count": 48,
   "id": "24b6a894",
   "metadata": {},
   "outputs": [],
   "source": [
    "sc_X = StandardScaler() \n",
    "X_train1 = sc_X.fit_transform(X_train1)\n",
    "X_test1 = sc_X.fit_transform(X_test1)"
   ]
  },
  {
   "cell_type": "code",
   "execution_count": 49,
   "id": "102842f7",
   "metadata": {
    "scrolled": false
   },
   "outputs": [
    {
     "name": "stderr",
     "output_type": "stream",
     "text": [
      "C:\\Users\\stevj\\anaconda3\\lib\\site-packages\\sklearn\\utils\\validation.py:63: DataConversionWarning: A column-vector y was passed when a 1d array was expected. Please change the shape of y to (n_samples, ), for example using ravel().\n",
      "  return f(*args, **kwargs)\n"
     ]
    }
   ],
   "source": [
    "classifer = BernoulliNB()\n",
    "classifer.fit(X_train1, y_train1)\n",
    "y_pred1 = classifer.predict(X_test1)"
   ]
  },
  {
   "cell_type": "markdown",
   "id": "25e2f8aa",
   "metadata": {},
   "source": [
    "Next, the model will consider just the 5 most used drugs."
   ]
  },
  {
   "cell_type": "code",
   "execution_count": 52,
   "id": "82fb8751",
   "metadata": {},
   "outputs": [],
   "source": [
    "X_top5 = reduced[[\"Heroin\", \"Cocaine\", \"Ethanol\", \"Benzodiazepine\", \"Oxycodone\"]].values\n",
    "y_top5 = reduced.loc[:, [\"Fentanyl\"]].values"
   ]
  },
  {
   "cell_type": "code",
   "execution_count": 53,
   "id": "adc9bd98",
   "metadata": {},
   "outputs": [],
   "source": [
    "X_train2, X_test2, y_train2, y_test2 = train_test_split(X_top5, y_top5, test_size = 0.20, random_state = 0)"
   ]
  },
  {
   "cell_type": "code",
   "execution_count": 54,
   "id": "b29e1be1",
   "metadata": {},
   "outputs": [],
   "source": [
    "sc_X = StandardScaler() \n",
    "X_train2 = sc_X.fit_transform(X_train2)\n",
    "X_test2 = sc_X.fit_transform(X_test2)"
   ]
  },
  {
   "cell_type": "code",
   "execution_count": 55,
   "id": "c78059d8",
   "metadata": {},
   "outputs": [
    {
     "name": "stderr",
     "output_type": "stream",
     "text": [
      "C:\\Users\\stevj\\anaconda3\\lib\\site-packages\\sklearn\\utils\\validation.py:63: DataConversionWarning: A column-vector y was passed when a 1d array was expected. Please change the shape of y to (n_samples, ), for example using ravel().\n",
      "  return f(*args, **kwargs)\n"
     ]
    }
   ],
   "source": [
    "classifer = BernoulliNB()\n",
    "classifer.fit(X_train2, y_train2)\n",
    "y_pred2 = classifer.predict(X_test2)"
   ]
  },
  {
   "cell_type": "code",
   "execution_count": 56,
   "id": "7ab750bb",
   "metadata": {
    "scrolled": true
   },
   "outputs": [
    {
     "name": "stdout",
     "output_type": "stream",
     "text": [
      "Accuracy with all features is  64.31372549019608 percent\n",
      "Accuracy with demographic features is  60.19607843137255 percent\n",
      "Accuracy with the five most used drugs is  60.19607843137255 percent\n"
     ]
    }
   ],
   "source": [
    "accuracy = accuracy_score(y_pred, y_test)\n",
    "accuracy_demo = accuracy_score(y_pred1, y_test1)\n",
    "accuracy_top5 = accuracy_score(y_pred2, y_test2)\n",
    "print(\"Accuracy with all features is \", 100 * accuracy,\"percent\")\n",
    "print(\"Accuracy with demographic features is \", 100 * accuracy_demo,\"percent\")\n",
    "print(\"Accuracy with the five most used drugs is \", 100 * accuracy_demo,\"percent\")"
   ]
  },
  {
   "cell_type": "code",
   "execution_count": 57,
   "id": "d6dcfdf2",
   "metadata": {},
   "outputs": [
    {
     "name": "stdout",
     "output_type": "stream",
     "text": [
      "Root mean squared error with all features is  0.5973799001456604\n",
      "Root mean squared error with demographic features is  0.6309034915787631\n",
      "Root mean squared error with top 5 used drugs  0.6678910325588666\n"
     ]
    }
   ],
   "source": [
    "rmse = sqrt(mean_squared_error(y_pred, y_test))\n",
    "rmse_demo = sqrt(mean_squared_error(y_pred1, y_test1))\n",
    "rmse_top5 = sqrt(mean_squared_error(y_pred2, y_test2))\n",
    "print(\"Root mean squared error with all features is \", rmse)\n",
    "print(\"Root mean squared error with demographic features is \", rmse_demo)\n",
    "print(\"Root mean squared error with top 5 used drugs \", rmse_top5)"
   ]
  },
  {
   "cell_type": "markdown",
   "id": "41a81891",
   "metadata": {},
   "source": [
    "Turns out using all features works better than more specific feature selection. This makes sense; Naive Bayes works best the more data it processes. Unlike, say, k-nearest neighbors, there are no parameters to tinker with that drastically impact model performance."
   ]
  },
  {
   "cell_type": "code",
   "execution_count": 98,
   "id": "4f05cc03",
   "metadata": {},
   "outputs": [
    {
     "data": {
      "text/plain": [
       "<function matplotlib.pyplot.show(close=None, block=None)>"
      ]
     },
     "execution_count": 98,
     "metadata": {},
     "output_type": "execute_result"
    },
    {
     "data": {
      "image/png": "[encoded data removed]",
      "text/plain": [
       "<Figure size 432x288 with 2 Axes>"
      ]
     },
     "metadata": {
      "needs_background": "light"
     },
     "output_type": "display_data"
    }
   ],
   "source": [
    "cm = confusion_matrix(y_test, y_pred)\n",
    "ax = plt.axes()\n",
    "sns.heatmap(cm, annot=True, fmt=\"\", cmap='Greens')\n",
    "ax.set_title('Confusion Matrix as Heatmap')\n",
    "ax.set_xlabel(\"Predictions\")\n",
    "ax.set_ylabel(\"Actual\")\n",
    "plt.show"
   ]
  },
  {
   "cell_type": "markdown",
   "id": "3ba083c9",
   "metadata": {},
   "source": [
    "The model mostly predicts overdose deaths will not have fentanyl, proving accurate in this forecast. Next, it succesfully predicts the presence of fentanyl. The model produces more false negatives than false positives, indicating more predicted negatives that were actually positives than vice versa."
   ]
  },
  {
   "cell_type": "markdown",
   "id": "7d72fa58",
   "metadata": {},
   "source": [
    "I'm going to do some logisitic regression for comparison"
   ]
  },
  {
   "cell_type": "code",
   "execution_count": 58,
   "id": "fca79f68",
   "metadata": {},
   "outputs": [],
   "source": [
    "logreg = LogisticRegression()"
   ]
  },
  {
   "cell_type": "code",
   "execution_count": 59,
   "id": "b7b432f0",
   "metadata": {},
   "outputs": [
    {
     "name": "stderr",
     "output_type": "stream",
     "text": [
      "C:\\Users\\stevj\\anaconda3\\lib\\site-packages\\sklearn\\utils\\validation.py:63: DataConversionWarning: A column-vector y was passed when a 1d array was expected. Please change the shape of y to (n_samples, ), for example using ravel().\n",
      "  return f(*args, **kwargs)\n",
      "C:\\Users\\stevj\\anaconda3\\lib\\site-packages\\sklearn\\linear_model\\_logistic.py:763: ConvergenceWarning: lbfgs failed to converge (status=1):\n",
      "STOP: TOTAL NO. of ITERATIONS REACHED LIMIT.\n",
      "\n",
      "Increase the number of iterations (max_iter) or scale the data as shown in:\n",
      "    https://scikit-learn.org/stable/modules/preprocessing.html\n",
      "Please also refer to the documentation for alternative solver options:\n",
      "    https://scikit-learn.org/stable/modules/linear_model.html#logistic-regression\n",
      "  n_iter_i = _check_optimize_result(\n"
     ]
    },
    {
     "data": {
      "text/plain": [
       "LogisticRegression()"
      ]
     },
     "execution_count": 59,
     "metadata": {},
     "output_type": "execute_result"
    }
   ],
   "source": [
    "logreg.fit(X,y)"
   ]
  },
  {
   "cell_type": "code",
   "execution_count": 60,
   "id": "a948e2a4",
   "metadata": {},
   "outputs": [
    {
     "data": {
      "text/plain": [
       "array([[-0.01821791,  0.45978152, -0.02537012,  4.71579106, -0.53057958,\n",
       "        -1.21149367, -0.7563017 , -0.03293883, -0.07850925, -1.00427785,\n",
       "         0.11612433, -0.21190532,  0.02352692]])"
      ]
     },
     "execution_count": 60,
     "metadata": {},
     "output_type": "execute_result"
    }
   ],
   "source": [
    "logreg.intercept_\n",
    "logreg.coef_"
   ]
  },
  {
   "cell_type": "code",
   "execution_count": 61,
   "id": "3eab0002",
   "metadata": {},
   "outputs": [
    {
     "data": {
      "text/plain": [
       "array([1., 0., 1., ..., 1., 1., 0.])"
      ]
     },
     "execution_count": 61,
     "metadata": {},
     "output_type": "execute_result"
    }
   ],
   "source": [
    "predictions = logreg.predict(X) \n",
    "predictions"
   ]
  },
  {
   "cell_type": "code",
   "execution_count": 62,
   "id": "047683ef",
   "metadata": {},
   "outputs": [
    {
     "data": {
      "text/plain": [
       "0.6939976461357396"
      ]
     },
     "execution_count": 62,
     "metadata": {},
     "output_type": "execute_result"
    }
   ],
   "source": [
    "logreg.score(X, y)"
   ]
  },
  {
   "cell_type": "code",
   "execution_count": 85,
   "id": "2b7ca7ad",
   "metadata": {},
   "outputs": [
    {
     "data": {
      "text/plain": [
       "0.5531747950370303"
      ]
     },
     "execution_count": 85,
     "metadata": {},
     "output_type": "execute_result"
    }
   ],
   "source": [
    "rmse_logreg = sqrt(mean_squared_error(predictions, y))\n",
    "rmse_logreg"
   ]
  },
  {
   "cell_type": "code",
   "execution_count": 97,
   "id": "a890721c",
   "metadata": {},
   "outputs": [
    {
     "data": {
      "text/plain": [
       "<function matplotlib.pyplot.show(close=None, block=None)>"
      ]
     },
     "execution_count": 97,
     "metadata": {},
     "output_type": "execute_result"
    },
    {
     "data": {
      "image/png": "[encoded data removed]",
      "text/plain": [
       "<Figure size 432x288 with 2 Axes>"
      ]
     },
     "metadata": {
      "needs_background": "light"
     },
     "output_type": "display_data"
    }
   ],
   "source": [
    "cm = confusion_matrix(y, predictions)\n",
    "ax = plt.axes()\n",
    "sns.heatmap(cm, annot=True, fmt=\"\", cmap='Greens')\n",
    "ax.set_title('Confusion Matrix as Heatmap')\n",
    "ax.set_xlabel(\"Predictions\")\n",
    "ax.set_ylabel(\"Actual\")\n",
    "plt.show"
   ]
  },
  {
   "cell_type": "markdown",
   "id": "bef4d81f",
   "metadata": {},
   "source": [
    "Multivariate logisitic regression beats the Naive Bayes model by a few percentage points. For some reason, it generates a lot more false negatives proportionally."
   ]
  },
  {
   "cell_type": "markdown",
   "id": "883bf357",
   "metadata": {},
   "source": [
    "I don't know if Naive Bayes is the best model for this dataset. Decision trees and maybe even neural networks might get a better answer. Logisitic regression proved to be decent at making the predictions I was after. Some sort of aggregating model may be able to improve on logistic regression's predictions somewhat.\n",
    "\n",
    "One disappointment of this dataset was the reduction of quantitative data to just 1s and 0s. I would be interested to find out if a higher amount of, say, heroin or cocaine in the bloodstream correlate with an increased probability for the presence of fentanyl. This dataset fails to facilitate such insight, but it was clean and easy to work with."
   ]
  },
  {
   "cell_type": "markdown",
   "id": "bc8b10dd",
   "metadata": {},
   "source": [
    "My model has two primary realworld benefits. First, it helps demonstrate the prevalence of fentanyl in fatal overdose cases. In recent years, this fact has only gotten worse. Second, my model shows, with decent accuracy, the drugs that correlate with the presence of fentanyl. In other words, there are patterns to fentanyl-linked overdose deaths that can and should be studied.\n",
    "\n",
    "A major limitation of my model--really the dataset--is a lack of data about socioeconomic status. How do poor people use drugs differently than rich ones, and how does this impact overdose deaths? The second limitation of my model may be a limitation of models and data more generally. Specifically, models reduce human life to numbers in a way that is usefu, but imperfect. Saying \"Fentanyl caused this person to die\" elides struggling to comprehend the social factors that facilitate fatal drug use. Again, this is a problem with all models, and mine is no exception."
   ]
  },
  {
   "cell_type": "markdown",
   "id": "1f984281",
   "metadata": {},
   "source": [
    "There are researchers doing interesting work about the opioid crisis, like modelling distribution networks and connecting overdose mortality to economic conditions and prescribed medications. One aspect that intrigues me is the link between mental health and drug abuse. Too often researchers can think in excessively binary terms--in this case, \"mentally ill\" or \"not mentally ill\"; a more nuanced approach to what constitutes mental welness might reveal some of the symptoms fuelling the overdose crisis."
   ]
  }
 ],
 "metadata": {
  "kernelspec": {
   "display_name": "Python 3 (ipykernel)",
   "language": "python",
   "name": "python3"
  },
  "language_info": {
   "codemirror_mode": {
    "name": "ipython",
    "version": 3
   },
   "file_extension": ".py",
   "mimetype": "text/x-python",
   "name": "python",
   "nbconvert_exporter": "python",
   "pygments_lexer": "ipython3",
   "version": "3.9.7"
  }
 },
 "nbformat": 4,
 "nbformat_minor": 5
}
